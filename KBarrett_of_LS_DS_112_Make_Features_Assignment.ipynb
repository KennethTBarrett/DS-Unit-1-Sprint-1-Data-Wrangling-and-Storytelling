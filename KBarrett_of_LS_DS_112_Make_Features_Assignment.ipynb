{
  "nbformat": 4,
  "nbformat_minor": 0,
  "metadata": {
    "colab": {
      "name": "Copy of LS_DS_112_Make_Features_Assignment.ipynb",
      "provenance": [],
      "collapsed_sections": [],
      "include_colab_link": true
    },
    "kernelspec": {
      "display_name": "Python 3",
      "language": "python",
      "name": "python3"
    },
    "language_info": {
      "codemirror_mode": {
        "name": "ipython",
        "version": 3
      },
      "file_extension": ".py",
      "mimetype": "text/x-python",
      "name": "python",
      "nbconvert_exporter": "python",
      "pygments_lexer": "ipython3",
      "version": "3.7.1"
    }
  },
  "cells": [
    {
      "cell_type": "markdown",
      "metadata": {
        "id": "view-in-github",
        "colab_type": "text"
      },
      "source": [
        "<a href=\"https://colab.research.google.com/github/KennethTBarrett/DS-Unit-1-Sprint-1-Data-Wrangling-and-Storytelling/blob/master/KBarrett_of_LS_DS_112_Make_Features_Assignment.ipynb\" target=\"_parent\"><img src=\"https://colab.research.google.com/assets/colab-badge.svg\" alt=\"Open In Colab\"/></a>"
      ]
    },
    {
      "cell_type": "markdown",
      "metadata": {
        "id": "SnDJqBLi0FYW",
        "colab_type": "text"
      },
      "source": [
        "<img align=\"left\" src=\"https://lever-client-logos.s3.amazonaws.com/864372b1-534c-480e-acd5-9711f850815c-1524247202159.png\" width=200> "
      ]
    },
    {
      "cell_type": "markdown",
      "metadata": {
        "id": "W5GjI1z5yNG4",
        "colab_type": "text"
      },
      "source": [
        "# Assignment:\n",
        "\n",
        "- Replicate the lesson code.\n",
        "\n",
        " - This means that if you haven't followed along already, type out the things that we did in class. Forcing your fingers to hit each key will help you internalize the syntax of what we're doing. Make sure you understand each line of code that you're writing, google things that you don't fully understand.\n",
        " - [Lambda Learning Method for DS - By Ryan Herr](https://docs.google.com/document/d/1ubOw9B3Hfip27hF2ZFnW3a3z9xAgrUDRReOEo-FHCVs/edit?usp=sharing)\n",
        "- Convert the `term` column from string to integer.\n",
        "- Make a column named `loan_status_is_great`. It should contain the integer 1 if `loan_status` is \"Current\" or \"Fully Paid.\" Else it should contain the integer 0.\n",
        "- Make `last_pymnt_d_month` and `last_pymnt_d_year` columns."
      ]
    },
    {
      "cell_type": "code",
      "metadata": {
        "id": "AazB4eFwym2p",
        "colab_type": "code",
        "colab": {}
      },
      "source": [
        "import pandas as pd\n",
        "\n",
        "url = \"https://raw.githubusercontent.com/jvns/pandas-cookbook/master/data/weather_2012.csv\"\n",
        "\n",
        "df_weather = pd.read_csv(url, parse_dates = True, index_col = 'Date/Time')"
      ],
      "execution_count": 0,
      "outputs": []
    },
    {
      "cell_type": "code",
      "metadata": {
        "id": "ZYYBMsVVrqFG",
        "colab_type": "code",
        "outputId": "a5c07c66-de15-40a7-f93e-ea498c0b120e",
        "colab": {
          "base_uri": "https://localhost:8080/",
          "height": 394
        }
      },
      "source": [
        "df_weather.sample(10)"
      ],
      "execution_count": 168,
      "outputs": [
        {
          "output_type": "execute_result",
          "data": {
            "text/html": [
              "<div>\n",
              "<style scoped>\n",
              "    .dataframe tbody tr th:only-of-type {\n",
              "        vertical-align: middle;\n",
              "    }\n",
              "\n",
              "    .dataframe tbody tr th {\n",
              "        vertical-align: top;\n",
              "    }\n",
              "\n",
              "    .dataframe thead th {\n",
              "        text-align: right;\n",
              "    }\n",
              "</style>\n",
              "<table border=\"1\" class=\"dataframe\">\n",
              "  <thead>\n",
              "    <tr style=\"text-align: right;\">\n",
              "      <th></th>\n",
              "      <th>Temp (C)</th>\n",
              "      <th>Dew Point Temp (C)</th>\n",
              "      <th>Rel Hum (%)</th>\n",
              "      <th>Wind Spd (km/h)</th>\n",
              "      <th>Visibility (km)</th>\n",
              "      <th>Stn Press (kPa)</th>\n",
              "      <th>Weather</th>\n",
              "    </tr>\n",
              "    <tr>\n",
              "      <th>Date/Time</th>\n",
              "      <th></th>\n",
              "      <th></th>\n",
              "      <th></th>\n",
              "      <th></th>\n",
              "      <th></th>\n",
              "      <th></th>\n",
              "      <th></th>\n",
              "    </tr>\n",
              "  </thead>\n",
              "  <tbody>\n",
              "    <tr>\n",
              "      <th>2012-07-30 13:00:00</th>\n",
              "      <td>28.5</td>\n",
              "      <td>15.5</td>\n",
              "      <td>45</td>\n",
              "      <td>15</td>\n",
              "      <td>48.3</td>\n",
              "      <td>101.17</td>\n",
              "      <td>Mostly Cloudy</td>\n",
              "    </tr>\n",
              "    <tr>\n",
              "      <th>2012-06-20 07:00:00</th>\n",
              "      <td>25.4</td>\n",
              "      <td>18.1</td>\n",
              "      <td>64</td>\n",
              "      <td>24</td>\n",
              "      <td>48.3</td>\n",
              "      <td>101.07</td>\n",
              "      <td>Mostly Cloudy</td>\n",
              "    </tr>\n",
              "    <tr>\n",
              "      <th>2012-01-31 01:00:00</th>\n",
              "      <td>-7.1</td>\n",
              "      <td>-13.2</td>\n",
              "      <td>62</td>\n",
              "      <td>6</td>\n",
              "      <td>25.0</td>\n",
              "      <td>101.88</td>\n",
              "      <td>Cloudy</td>\n",
              "    </tr>\n",
              "    <tr>\n",
              "      <th>2012-06-08 14:00:00</th>\n",
              "      <td>20.2</td>\n",
              "      <td>12.8</td>\n",
              "      <td>62</td>\n",
              "      <td>17</td>\n",
              "      <td>24.1</td>\n",
              "      <td>100.25</td>\n",
              "      <td>Cloudy</td>\n",
              "    </tr>\n",
              "    <tr>\n",
              "      <th>2012-01-04 06:00:00</th>\n",
              "      <td>-18.5</td>\n",
              "      <td>-24.1</td>\n",
              "      <td>61</td>\n",
              "      <td>11</td>\n",
              "      <td>25.0</td>\n",
              "      <td>101.74</td>\n",
              "      <td>Cloudy</td>\n",
              "    </tr>\n",
              "    <tr>\n",
              "      <th>2012-01-08 01:00:00</th>\n",
              "      <td>-0.6</td>\n",
              "      <td>-4.6</td>\n",
              "      <td>74</td>\n",
              "      <td>32</td>\n",
              "      <td>25.0</td>\n",
              "      <td>100.80</td>\n",
              "      <td>Mostly Cloudy</td>\n",
              "    </tr>\n",
              "    <tr>\n",
              "      <th>2012-12-28 14:00:00</th>\n",
              "      <td>-6.5</td>\n",
              "      <td>-9.9</td>\n",
              "      <td>77</td>\n",
              "      <td>22</td>\n",
              "      <td>48.3</td>\n",
              "      <td>101.17</td>\n",
              "      <td>Mainly Clear</td>\n",
              "    </tr>\n",
              "    <tr>\n",
              "      <th>2012-02-07 03:00:00</th>\n",
              "      <td>0.8</td>\n",
              "      <td>-5.0</td>\n",
              "      <td>65</td>\n",
              "      <td>19</td>\n",
              "      <td>25.0</td>\n",
              "      <td>100.94</td>\n",
              "      <td>Snow Showers</td>\n",
              "    </tr>\n",
              "    <tr>\n",
              "      <th>2012-12-26 09:00:00</th>\n",
              "      <td>-11.3</td>\n",
              "      <td>-12.7</td>\n",
              "      <td>89</td>\n",
              "      <td>15</td>\n",
              "      <td>4.0</td>\n",
              "      <td>102.52</td>\n",
              "      <td>Snow Showers,Fog</td>\n",
              "    </tr>\n",
              "    <tr>\n",
              "      <th>2012-04-22 11:00:00</th>\n",
              "      <td>4.6</td>\n",
              "      <td>-0.2</td>\n",
              "      <td>71</td>\n",
              "      <td>22</td>\n",
              "      <td>48.3</td>\n",
              "      <td>101.24</td>\n",
              "      <td>Cloudy</td>\n",
              "    </tr>\n",
              "  </tbody>\n",
              "</table>\n",
              "</div>"
            ],
            "text/plain": [
              "                     Temp (C)  Dew Point Temp (C)  Rel Hum (%)  \\\n",
              "Date/Time                                                        \n",
              "2012-07-30 13:00:00      28.5                15.5           45   \n",
              "2012-06-20 07:00:00      25.4                18.1           64   \n",
              "2012-01-31 01:00:00      -7.1               -13.2           62   \n",
              "2012-06-08 14:00:00      20.2                12.8           62   \n",
              "2012-01-04 06:00:00     -18.5               -24.1           61   \n",
              "2012-01-08 01:00:00      -0.6                -4.6           74   \n",
              "2012-12-28 14:00:00      -6.5                -9.9           77   \n",
              "2012-02-07 03:00:00       0.8                -5.0           65   \n",
              "2012-12-26 09:00:00     -11.3               -12.7           89   \n",
              "2012-04-22 11:00:00       4.6                -0.2           71   \n",
              "\n",
              "                     Wind Spd (km/h)  Visibility (km)  Stn Press (kPa)  \\\n",
              "Date/Time                                                                \n",
              "2012-07-30 13:00:00               15             48.3           101.17   \n",
              "2012-06-20 07:00:00               24             48.3           101.07   \n",
              "2012-01-31 01:00:00                6             25.0           101.88   \n",
              "2012-06-08 14:00:00               17             24.1           100.25   \n",
              "2012-01-04 06:00:00               11             25.0           101.74   \n",
              "2012-01-08 01:00:00               32             25.0           100.80   \n",
              "2012-12-28 14:00:00               22             48.3           101.17   \n",
              "2012-02-07 03:00:00               19             25.0           100.94   \n",
              "2012-12-26 09:00:00               15              4.0           102.52   \n",
              "2012-04-22 11:00:00               22             48.3           101.24   \n",
              "\n",
              "                              Weather  \n",
              "Date/Time                              \n",
              "2012-07-30 13:00:00     Mostly Cloudy  \n",
              "2012-06-20 07:00:00     Mostly Cloudy  \n",
              "2012-01-31 01:00:00            Cloudy  \n",
              "2012-06-08 14:00:00            Cloudy  \n",
              "2012-01-04 06:00:00            Cloudy  \n",
              "2012-01-08 01:00:00     Mostly Cloudy  \n",
              "2012-12-28 14:00:00      Mainly Clear  \n",
              "2012-02-07 03:00:00      Snow Showers  \n",
              "2012-12-26 09:00:00  Snow Showers,Fog  \n",
              "2012-04-22 11:00:00            Cloudy  "
            ]
          },
          "metadata": {
            "tags": []
          },
          "execution_count": 168
        }
      ]
    },
    {
      "cell_type": "code",
      "metadata": {
        "id": "zmnGQYVhrsZt",
        "colab_type": "code",
        "outputId": "88e36438-c845-43ef-bf42-eaa59ebd1e96",
        "colab": {
          "base_uri": "https://localhost:8080/",
          "height": 243
        }
      },
      "source": [
        "df_weather['Weather'].str.contains('Snow')"
      ],
      "execution_count": 169,
      "outputs": [
        {
          "output_type": "execute_result",
          "data": {
            "text/plain": [
              "Date/Time\n",
              "2012-01-01 00:00:00    False\n",
              "2012-01-01 01:00:00    False\n",
              "2012-01-01 02:00:00    False\n",
              "2012-01-01 03:00:00    False\n",
              "2012-01-01 04:00:00    False\n",
              "                       ...  \n",
              "2012-12-31 19:00:00     True\n",
              "2012-12-31 20:00:00     True\n",
              "2012-12-31 21:00:00     True\n",
              "2012-12-31 22:00:00     True\n",
              "2012-12-31 23:00:00     True\n",
              "Name: Weather, Length: 8784, dtype: bool"
            ]
          },
          "metadata": {
            "tags": []
          },
          "execution_count": 169
        }
      ]
    },
    {
      "cell_type": "code",
      "metadata": {
        "id": "cj7nptJqr4Yk",
        "colab_type": "code",
        "outputId": "ce7b50e0-da83-4235-a9fa-d5bfd14cf7fa",
        "colab": {
          "base_uri": "https://localhost:8080/",
          "height": 243
        }
      },
      "source": [
        "df_weather['Weather'].str.contains('Rain')"
      ],
      "execution_count": 170,
      "outputs": [
        {
          "output_type": "execute_result",
          "data": {
            "text/plain": [
              "Date/Time\n",
              "2012-01-01 00:00:00    False\n",
              "2012-01-01 01:00:00    False\n",
              "2012-01-01 02:00:00    False\n",
              "2012-01-01 03:00:00    False\n",
              "2012-01-01 04:00:00    False\n",
              "                       ...  \n",
              "2012-12-31 19:00:00    False\n",
              "2012-12-31 20:00:00    False\n",
              "2012-12-31 21:00:00    False\n",
              "2012-12-31 22:00:00    False\n",
              "2012-12-31 23:00:00    False\n",
              "Name: Weather, Length: 8784, dtype: bool"
            ]
          },
          "metadata": {
            "tags": []
          },
          "execution_count": 170
        }
      ]
    },
    {
      "cell_type": "code",
      "metadata": {
        "id": "niUiveCBr9su",
        "colab_type": "code",
        "outputId": "10c9e2a5-8e74-4a43-d4e8-a21c19ab7640",
        "colab": {
          "base_uri": "https://localhost:8080/",
          "height": 243
        }
      },
      "source": [
        "is_precip = df_weather['Weather'].str.contains('Rain') | df_weather['Weather'].str.contains('Snow')\n",
        "\n",
        "is_precip"
      ],
      "execution_count": 171,
      "outputs": [
        {
          "output_type": "execute_result",
          "data": {
            "text/plain": [
              "Date/Time\n",
              "2012-01-01 00:00:00    False\n",
              "2012-01-01 01:00:00    False\n",
              "2012-01-01 02:00:00    False\n",
              "2012-01-01 03:00:00    False\n",
              "2012-01-01 04:00:00    False\n",
              "                       ...  \n",
              "2012-12-31 19:00:00     True\n",
              "2012-12-31 20:00:00     True\n",
              "2012-12-31 21:00:00     True\n",
              "2012-12-31 22:00:00     True\n",
              "2012-12-31 23:00:00     True\n",
              "Name: Weather, Length: 8784, dtype: bool"
            ]
          },
          "metadata": {
            "tags": []
          },
          "execution_count": 171
        }
      ]
    },
    {
      "cell_type": "code",
      "metadata": {
        "id": "8iTvBzG5sHBb",
        "colab_type": "code",
        "outputId": "007ebe32-752c-44df-f212-23a07e135036",
        "colab": {
          "base_uri": "https://localhost:8080/",
          "height": 238
        }
      },
      "source": [
        "df_weather['is_precipitation'] = is_precip\n",
        "\n",
        "df_weather.head()"
      ],
      "execution_count": 172,
      "outputs": [
        {
          "output_type": "execute_result",
          "data": {
            "text/html": [
              "<div>\n",
              "<style scoped>\n",
              "    .dataframe tbody tr th:only-of-type {\n",
              "        vertical-align: middle;\n",
              "    }\n",
              "\n",
              "    .dataframe tbody tr th {\n",
              "        vertical-align: top;\n",
              "    }\n",
              "\n",
              "    .dataframe thead th {\n",
              "        text-align: right;\n",
              "    }\n",
              "</style>\n",
              "<table border=\"1\" class=\"dataframe\">\n",
              "  <thead>\n",
              "    <tr style=\"text-align: right;\">\n",
              "      <th></th>\n",
              "      <th>Temp (C)</th>\n",
              "      <th>Dew Point Temp (C)</th>\n",
              "      <th>Rel Hum (%)</th>\n",
              "      <th>Wind Spd (km/h)</th>\n",
              "      <th>Visibility (km)</th>\n",
              "      <th>Stn Press (kPa)</th>\n",
              "      <th>Weather</th>\n",
              "      <th>is_precipitation</th>\n",
              "    </tr>\n",
              "    <tr>\n",
              "      <th>Date/Time</th>\n",
              "      <th></th>\n",
              "      <th></th>\n",
              "      <th></th>\n",
              "      <th></th>\n",
              "      <th></th>\n",
              "      <th></th>\n",
              "      <th></th>\n",
              "      <th></th>\n",
              "    </tr>\n",
              "  </thead>\n",
              "  <tbody>\n",
              "    <tr>\n",
              "      <th>2012-01-01 00:00:00</th>\n",
              "      <td>-1.8</td>\n",
              "      <td>-3.9</td>\n",
              "      <td>86</td>\n",
              "      <td>4</td>\n",
              "      <td>8.0</td>\n",
              "      <td>101.24</td>\n",
              "      <td>Fog</td>\n",
              "      <td>False</td>\n",
              "    </tr>\n",
              "    <tr>\n",
              "      <th>2012-01-01 01:00:00</th>\n",
              "      <td>-1.8</td>\n",
              "      <td>-3.7</td>\n",
              "      <td>87</td>\n",
              "      <td>4</td>\n",
              "      <td>8.0</td>\n",
              "      <td>101.24</td>\n",
              "      <td>Fog</td>\n",
              "      <td>False</td>\n",
              "    </tr>\n",
              "    <tr>\n",
              "      <th>2012-01-01 02:00:00</th>\n",
              "      <td>-1.8</td>\n",
              "      <td>-3.4</td>\n",
              "      <td>89</td>\n",
              "      <td>7</td>\n",
              "      <td>4.0</td>\n",
              "      <td>101.26</td>\n",
              "      <td>Freezing Drizzle,Fog</td>\n",
              "      <td>False</td>\n",
              "    </tr>\n",
              "    <tr>\n",
              "      <th>2012-01-01 03:00:00</th>\n",
              "      <td>-1.5</td>\n",
              "      <td>-3.2</td>\n",
              "      <td>88</td>\n",
              "      <td>6</td>\n",
              "      <td>4.0</td>\n",
              "      <td>101.27</td>\n",
              "      <td>Freezing Drizzle,Fog</td>\n",
              "      <td>False</td>\n",
              "    </tr>\n",
              "    <tr>\n",
              "      <th>2012-01-01 04:00:00</th>\n",
              "      <td>-1.5</td>\n",
              "      <td>-3.3</td>\n",
              "      <td>88</td>\n",
              "      <td>7</td>\n",
              "      <td>4.8</td>\n",
              "      <td>101.23</td>\n",
              "      <td>Fog</td>\n",
              "      <td>False</td>\n",
              "    </tr>\n",
              "  </tbody>\n",
              "</table>\n",
              "</div>"
            ],
            "text/plain": [
              "                     Temp (C)  Dew Point Temp (C)  Rel Hum (%)  \\\n",
              "Date/Time                                                        \n",
              "2012-01-01 00:00:00      -1.8                -3.9           86   \n",
              "2012-01-01 01:00:00      -1.8                -3.7           87   \n",
              "2012-01-01 02:00:00      -1.8                -3.4           89   \n",
              "2012-01-01 03:00:00      -1.5                -3.2           88   \n",
              "2012-01-01 04:00:00      -1.5                -3.3           88   \n",
              "\n",
              "                     Wind Spd (km/h)  Visibility (km)  Stn Press (kPa)  \\\n",
              "Date/Time                                                                \n",
              "2012-01-01 00:00:00                4              8.0           101.24   \n",
              "2012-01-01 01:00:00                4              8.0           101.24   \n",
              "2012-01-01 02:00:00                7              4.0           101.26   \n",
              "2012-01-01 03:00:00                6              4.0           101.27   \n",
              "2012-01-01 04:00:00                7              4.8           101.23   \n",
              "\n",
              "                                  Weather  is_precipitation  \n",
              "Date/Time                                                    \n",
              "2012-01-01 00:00:00                   Fog             False  \n",
              "2012-01-01 01:00:00                   Fog             False  \n",
              "2012-01-01 02:00:00  Freezing Drizzle,Fog             False  \n",
              "2012-01-01 03:00:00  Freezing Drizzle,Fog             False  \n",
              "2012-01-01 04:00:00                   Fog             False  "
            ]
          },
          "metadata": {
            "tags": []
          },
          "execution_count": 172
        }
      ]
    },
    {
      "cell_type": "code",
      "metadata": {
        "id": "Kt_VmDb9sOhp",
        "colab_type": "code",
        "outputId": "ffb246a3-e18d-49a1-faad-4934d0fbfea5",
        "colab": {
          "base_uri": "https://localhost:8080/",
          "height": 238
        }
      },
      "source": [
        "df_weather['Visibility (mi)'] = 0.62*df_weather['Visibility (km)']\n",
        "df_weather.head()"
      ],
      "execution_count": 173,
      "outputs": [
        {
          "output_type": "execute_result",
          "data": {
            "text/html": [
              "<div>\n",
              "<style scoped>\n",
              "    .dataframe tbody tr th:only-of-type {\n",
              "        vertical-align: middle;\n",
              "    }\n",
              "\n",
              "    .dataframe tbody tr th {\n",
              "        vertical-align: top;\n",
              "    }\n",
              "\n",
              "    .dataframe thead th {\n",
              "        text-align: right;\n",
              "    }\n",
              "</style>\n",
              "<table border=\"1\" class=\"dataframe\">\n",
              "  <thead>\n",
              "    <tr style=\"text-align: right;\">\n",
              "      <th></th>\n",
              "      <th>Temp (C)</th>\n",
              "      <th>Dew Point Temp (C)</th>\n",
              "      <th>Rel Hum (%)</th>\n",
              "      <th>Wind Spd (km/h)</th>\n",
              "      <th>Visibility (km)</th>\n",
              "      <th>Stn Press (kPa)</th>\n",
              "      <th>Weather</th>\n",
              "      <th>is_precipitation</th>\n",
              "      <th>Visibility (mi)</th>\n",
              "    </tr>\n",
              "    <tr>\n",
              "      <th>Date/Time</th>\n",
              "      <th></th>\n",
              "      <th></th>\n",
              "      <th></th>\n",
              "      <th></th>\n",
              "      <th></th>\n",
              "      <th></th>\n",
              "      <th></th>\n",
              "      <th></th>\n",
              "      <th></th>\n",
              "    </tr>\n",
              "  </thead>\n",
              "  <tbody>\n",
              "    <tr>\n",
              "      <th>2012-01-01 00:00:00</th>\n",
              "      <td>-1.8</td>\n",
              "      <td>-3.9</td>\n",
              "      <td>86</td>\n",
              "      <td>4</td>\n",
              "      <td>8.0</td>\n",
              "      <td>101.24</td>\n",
              "      <td>Fog</td>\n",
              "      <td>False</td>\n",
              "      <td>4.960</td>\n",
              "    </tr>\n",
              "    <tr>\n",
              "      <th>2012-01-01 01:00:00</th>\n",
              "      <td>-1.8</td>\n",
              "      <td>-3.7</td>\n",
              "      <td>87</td>\n",
              "      <td>4</td>\n",
              "      <td>8.0</td>\n",
              "      <td>101.24</td>\n",
              "      <td>Fog</td>\n",
              "      <td>False</td>\n",
              "      <td>4.960</td>\n",
              "    </tr>\n",
              "    <tr>\n",
              "      <th>2012-01-01 02:00:00</th>\n",
              "      <td>-1.8</td>\n",
              "      <td>-3.4</td>\n",
              "      <td>89</td>\n",
              "      <td>7</td>\n",
              "      <td>4.0</td>\n",
              "      <td>101.26</td>\n",
              "      <td>Freezing Drizzle,Fog</td>\n",
              "      <td>False</td>\n",
              "      <td>2.480</td>\n",
              "    </tr>\n",
              "    <tr>\n",
              "      <th>2012-01-01 03:00:00</th>\n",
              "      <td>-1.5</td>\n",
              "      <td>-3.2</td>\n",
              "      <td>88</td>\n",
              "      <td>6</td>\n",
              "      <td>4.0</td>\n",
              "      <td>101.27</td>\n",
              "      <td>Freezing Drizzle,Fog</td>\n",
              "      <td>False</td>\n",
              "      <td>2.480</td>\n",
              "    </tr>\n",
              "    <tr>\n",
              "      <th>2012-01-01 04:00:00</th>\n",
              "      <td>-1.5</td>\n",
              "      <td>-3.3</td>\n",
              "      <td>88</td>\n",
              "      <td>7</td>\n",
              "      <td>4.8</td>\n",
              "      <td>101.23</td>\n",
              "      <td>Fog</td>\n",
              "      <td>False</td>\n",
              "      <td>2.976</td>\n",
              "    </tr>\n",
              "  </tbody>\n",
              "</table>\n",
              "</div>"
            ],
            "text/plain": [
              "                     Temp (C)  Dew Point Temp (C)  Rel Hum (%)  \\\n",
              "Date/Time                                                        \n",
              "2012-01-01 00:00:00      -1.8                -3.9           86   \n",
              "2012-01-01 01:00:00      -1.8                -3.7           87   \n",
              "2012-01-01 02:00:00      -1.8                -3.4           89   \n",
              "2012-01-01 03:00:00      -1.5                -3.2           88   \n",
              "2012-01-01 04:00:00      -1.5                -3.3           88   \n",
              "\n",
              "                     Wind Spd (km/h)  Visibility (km)  Stn Press (kPa)  \\\n",
              "Date/Time                                                                \n",
              "2012-01-01 00:00:00                4              8.0           101.24   \n",
              "2012-01-01 01:00:00                4              8.0           101.24   \n",
              "2012-01-01 02:00:00                7              4.0           101.26   \n",
              "2012-01-01 03:00:00                6              4.0           101.27   \n",
              "2012-01-01 04:00:00                7              4.8           101.23   \n",
              "\n",
              "                                  Weather  is_precipitation  Visibility (mi)  \n",
              "Date/Time                                                                     \n",
              "2012-01-01 00:00:00                   Fog             False            4.960  \n",
              "2012-01-01 01:00:00                   Fog             False            4.960  \n",
              "2012-01-01 02:00:00  Freezing Drizzle,Fog             False            2.480  \n",
              "2012-01-01 03:00:00  Freezing Drizzle,Fog             False            2.480  \n",
              "2012-01-01 04:00:00                   Fog             False            2.976  "
            ]
          },
          "metadata": {
            "tags": []
          },
          "execution_count": 173
        }
      ]
    },
    {
      "cell_type": "code",
      "metadata": {
        "id": "jFGm3cf7sTNr",
        "colab_type": "code",
        "outputId": "b0c064da-305f-42c2-b418-e3692f24b105",
        "colab": {
          "base_uri": "https://localhost:8080/",
          "height": 208
        }
      },
      "source": [
        "!wget https://resources.lendingclub.com/LoanStats_2018Q4.csv.zip"
      ],
      "execution_count": 174,
      "outputs": [
        {
          "output_type": "stream",
          "text": [
            "--2019-11-02 03:09:01--  https://resources.lendingclub.com/LoanStats_2018Q4.csv.zip\n",
            "Resolving resources.lendingclub.com (resources.lendingclub.com)... 64.48.1.20\n",
            "Connecting to resources.lendingclub.com (resources.lendingclub.com)|64.48.1.20|:443... connected.\n",
            "HTTP request sent, awaiting response... 200 OK\n",
            "Length: unspecified [application/zip]\n",
            "Saving to: ‘LoanStats_2018Q4.csv.zip.1’\n",
            "\n",
            "LoanStats_2018Q4.cs     [      <=>           ]  21.66M   767KB/s    in 29s     \n",
            "\n",
            "2019-11-02 03:09:31 (753 KB/s) - ‘LoanStats_2018Q4.csv.zip.1’ saved [22709125]\n",
            "\n"
          ],
          "name": "stdout"
        }
      ]
    },
    {
      "cell_type": "code",
      "metadata": {
        "id": "s9qGKPh2sTRu",
        "colab_type": "code",
        "outputId": "f6804db8-6d7b-4427-c2e9-7ff57e4555c1",
        "colab": {
          "base_uri": "https://localhost:8080/",
          "height": 66
        }
      },
      "source": [
        "!unzip LoanStats_2018Q4.csv.zip\n",
        "!head LoanStats_2018Q4.csv"
      ],
      "execution_count": 0,
      "outputs": [
        {
          "output_type": "stream",
          "text": [
            "Archive:  LoanStats_2018Q4.csv.zip\n",
            "replace LoanStats_2018Q4.csv? [y]es, [n]o, [A]ll, [N]one, [r]ename: "
          ],
          "name": "stdout"
        }
      ]
    },
    {
      "cell_type": "code",
      "metadata": {
        "id": "FkuDbtI-sTV_",
        "colab_type": "code",
        "colab": {}
      },
      "source": [
        "!tail LoanStats_2018Q4.csv"
      ],
      "execution_count": 0,
      "outputs": []
    },
    {
      "cell_type": "code",
      "metadata": {
        "id": "cJcQpfIlsTY3",
        "colab_type": "code",
        "colab": {}
      },
      "source": [
        "df = pd.read_csv('LoanStats_2018Q4.csv')\n",
        "df.head()"
      ],
      "execution_count": 0,
      "outputs": []
    },
    {
      "cell_type": "code",
      "metadata": {
        "id": "kWQcPuFfseFF",
        "colab_type": "code",
        "colab": {}
      },
      "source": [
        "df = pd.read_csv('LoanStats_2018Q4.csv', header=1)\n",
        "df.head()"
      ],
      "execution_count": 0,
      "outputs": []
    },
    {
      "cell_type": "code",
      "metadata": {
        "id": "5f_OfFCmsfaj",
        "colab_type": "code",
        "colab": {}
      },
      "source": [
        "df.tail()"
      ],
      "execution_count": 0,
      "outputs": []
    },
    {
      "cell_type": "code",
      "metadata": {
        "id": "3LNwBnG8shEq",
        "colab_type": "code",
        "colab": {}
      },
      "source": [
        "df = pd.read_csv('LoanStats_2018Q4.csv',header = 1, skipfooter = 2, engine = 'python', skipinitialspace = True)\n",
        "df.head()"
      ],
      "execution_count": 0,
      "outputs": []
    },
    {
      "cell_type": "code",
      "metadata": {
        "id": "d3diW3F8sx1S",
        "colab_type": "code",
        "colab": {}
      },
      "source": [
        "df.tail()"
      ],
      "execution_count": 0,
      "outputs": []
    },
    {
      "cell_type": "code",
      "metadata": {
        "id": "AIvuHMXhs1QB",
        "colab_type": "code",
        "colab": {}
      },
      "source": [
        "print(df.shape)"
      ],
      "execution_count": 0,
      "outputs": []
    },
    {
      "cell_type": "code",
      "metadata": {
        "id": "mq_ZXISss30W",
        "colab_type": "code",
        "colab": {}
      },
      "source": [
        "pd.set_option('display.max_rows', 500)\n",
        "pd.set_option('display.max_columns', 500)"
      ],
      "execution_count": 0,
      "outputs": []
    },
    {
      "cell_type": "code",
      "metadata": {
        "id": "eqXRiQfjs63u",
        "colab_type": "code",
        "colab": {}
      },
      "source": [
        "df.isnull().sum()"
      ],
      "execution_count": 0,
      "outputs": []
    },
    {
      "cell_type": "code",
      "metadata": {
        "id": "inCm4tqGs_B4",
        "colab_type": "code",
        "colab": {}
      },
      "source": [
        "df.isnull().sum().sort_values(ascending = False)"
      ],
      "execution_count": 0,
      "outputs": []
    },
    {
      "cell_type": "code",
      "metadata": {
        "id": "aR9_1d8EtCZG",
        "colab_type": "code",
        "colab": {}
      },
      "source": [
        "hardship_col = [col for col in df.columns if 'hardship' in col]\n",
        "hardship_col"
      ],
      "execution_count": 0,
      "outputs": []
    },
    {
      "cell_type": "code",
      "metadata": {
        "id": "oUV6ZwectHSS",
        "colab_type": "code",
        "colab": {}
      },
      "source": [
        "df.drop(columns = hardship_col).head()"
      ],
      "execution_count": 0,
      "outputs": []
    },
    {
      "cell_type": "code",
      "metadata": {
        "id": "kEO0_r1htLWR",
        "colab_type": "code",
        "colab": {}
      },
      "source": [
        "help(df.drop)"
      ],
      "execution_count": 0,
      "outputs": []
    },
    {
      "cell_type": "code",
      "metadata": {
        "id": "_PunLMH1tOvy",
        "colab_type": "code",
        "colab": {}
      },
      "source": [
        "type(df['int_rate'])"
      ],
      "execution_count": 0,
      "outputs": []
    },
    {
      "cell_type": "code",
      "metadata": {
        "id": "Qk6SM5gttQrv",
        "colab_type": "code",
        "colab": {}
      },
      "source": [
        "df['int_rate']"
      ],
      "execution_count": 0,
      "outputs": []
    },
    {
      "cell_type": "code",
      "metadata": {
        "id": "6hmzTnXEtUPh",
        "colab_type": "code",
        "colab": {}
      },
      "source": [
        "type(df[['int_rate']])"
      ],
      "execution_count": 0,
      "outputs": []
    },
    {
      "cell_type": "code",
      "metadata": {
        "id": "eXIY0zBPtV-u",
        "colab_type": "code",
        "colab": {}
      },
      "source": [
        "int_rate = '15.05%'\n",
        "int_rate[:-1]"
      ],
      "execution_count": 0,
      "outputs": []
    },
    {
      "cell_type": "code",
      "metadata": {
        "id": "zk64TjaktZR7",
        "colab_type": "code",
        "colab": {}
      },
      "source": [
        "int_list = ['15.05%', '19.40%', '17.75%']\n",
        "int_list[:2]"
      ],
      "execution_count": 0,
      "outputs": []
    },
    {
      "cell_type": "code",
      "metadata": {
        "id": "pEgBau0Vtg5z",
        "colab_type": "code",
        "colab": {}
      },
      "source": [
        "int_rate.strip('%')"
      ],
      "execution_count": 0,
      "outputs": []
    },
    {
      "cell_type": "code",
      "metadata": {
        "id": "kdXmJoL6tjJ8",
        "colab_type": "code",
        "colab": {}
      },
      "source": [
        "'%15.%05%'.strip('%')"
      ],
      "execution_count": 0,
      "outputs": []
    },
    {
      "cell_type": "code",
      "metadata": {
        "id": "ZG2JgTy7tmT4",
        "colab_type": "code",
        "colab": {}
      },
      "source": [
        "type(int_rate.strip('%'))"
      ],
      "execution_count": 0,
      "outputs": []
    },
    {
      "cell_type": "code",
      "metadata": {
        "id": "BrLkJ02TtnxT",
        "colab_type": "code",
        "colab": {}
      },
      "source": [
        "float(int_rate.strip('%'))"
      ],
      "execution_count": 0,
      "outputs": []
    },
    {
      "cell_type": "code",
      "metadata": {
        "id": "_ShCHveEtpVw",
        "colab_type": "code",
        "colab": {}
      },
      "source": [
        "type(float(int_rate.strip('%')))"
      ],
      "execution_count": 0,
      "outputs": []
    },
    {
      "cell_type": "code",
      "metadata": {
        "id": "Fv4SFTvcuMke",
        "colab_type": "code",
        "colab": {}
      },
      "source": [
        "def remove_percent_to_float(string):\n",
        "  return float(string.strip('%'))\n",
        "  \n",
        "int_list = ['15.05%', '19.40%', '17.75%']\n",
        "\n",
        "[remove_percent_to_float(item) for item in int_list]"
      ],
      "execution_count": 0,
      "outputs": []
    },
    {
      "cell_type": "code",
      "metadata": {
        "id": "-yLgs2a4ucPZ",
        "colab_type": "code",
        "colab": {}
      },
      "source": [
        "df['int_rate'].apply(remove_percent_to_float)\n",
        "df['int_rate'].apply(lambda x: float(x.strip('%')))\n",
        "df['int_rate'] = df['int_rate'].apply(remove_percent_to_float)\n"
      ],
      "execution_count": 0,
      "outputs": []
    },
    {
      "cell_type": "code",
      "metadata": {
        "id": "MgvvQYt0u3eB",
        "colab_type": "code",
        "colab": {}
      },
      "source": [
        "df.dtypes"
      ],
      "execution_count": 0,
      "outputs": []
    },
    {
      "cell_type": "code",
      "metadata": {
        "id": "w9D0fJt2u6Xj",
        "colab_type": "code",
        "colab": {}
      },
      "source": [
        "df['emp_title'].value_counts(dropna = False).head(20)"
      ],
      "execution_count": 0,
      "outputs": []
    },
    {
      "cell_type": "code",
      "metadata": {
        "id": "VBSBUsGPu8ff",
        "colab_type": "code",
        "colab": {}
      },
      "source": [
        "df['emp_title'].nunique()"
      ],
      "execution_count": 0,
      "outputs": []
    },
    {
      "cell_type": "code",
      "metadata": {
        "id": "qf-wuG-Gu-KO",
        "colab_type": "code",
        "colab": {}
      },
      "source": [
        "df.describe(exclude = 'number')"
      ],
      "execution_count": 0,
      "outputs": []
    },
    {
      "cell_type": "code",
      "metadata": {
        "id": "5bW-hfbzu_VB",
        "colab_type": "code",
        "colab": {}
      },
      "source": [
        "df['emp_title'].isnull().sum()"
      ],
      "execution_count": 0,
      "outputs": []
    },
    {
      "cell_type": "code",
      "metadata": {
        "id": "XOgtPHPMvBpK",
        "colab_type": "code",
        "colab": {}
      },
      "source": [
        "import numpy as np"
      ],
      "execution_count": 0,
      "outputs": []
    },
    {
      "cell_type": "code",
      "metadata": {
        "id": "w6YOSzyDvEHQ",
        "colab_type": "code",
        "colab": {}
      },
      "source": [
        "examples = ['owner', 'Supervisor', ' Project Manager', np.NaN]"
      ],
      "execution_count": 0,
      "outputs": []
    },
    {
      "cell_type": "code",
      "metadata": {
        "id": "LMzTWykpvGsZ",
        "colab_type": "code",
        "colab": {}
      },
      "source": [
        "type(np.NaN)"
      ],
      "execution_count": 0,
      "outputs": []
    },
    {
      "cell_type": "code",
      "metadata": {
        "id": "cWcQGBXZvJG7",
        "colab_type": "code",
        "colab": {}
      },
      "source": [
        "def clean_title(item):\n",
        "  if isinstance(item, str):\n",
        "    return item.strip().title().lower()\n",
        "  else:\n",
        "    return \"unknown\"\n",
        "\n",
        "[clean_title(item) for item in examples]"
      ],
      "execution_count": 0,
      "outputs": []
    },
    {
      "cell_type": "code",
      "metadata": {
        "id": "roRFOGjdvK_k",
        "colab_type": "code",
        "colab": {}
      },
      "source": [
        "df['emp_title'] = df['emp_title'].apply(clean_title)\n",
        "\n",
        "df.head()"
      ],
      "execution_count": 0,
      "outputs": []
    },
    {
      "cell_type": "code",
      "metadata": {
        "id": "_kcQYQlTvN9t",
        "colab_type": "code",
        "colab": {}
      },
      "source": [
        "df['emp_title'].value_counts(dropna = False).head(20)"
      ],
      "execution_count": 0,
      "outputs": []
    },
    {
      "cell_type": "code",
      "metadata": {
        "id": "23KyS6LlvRm-",
        "colab_type": "code",
        "colab": {}
      },
      "source": [
        "df['emp_title'].describe(exclude = 'number')"
      ],
      "execution_count": 0,
      "outputs": []
    },
    {
      "cell_type": "code",
      "metadata": {
        "id": "D0GeLLHDvVA1",
        "colab_type": "code",
        "colab": {}
      },
      "source": [
        "df['emp_title'].nunique()"
      ],
      "execution_count": 0,
      "outputs": []
    },
    {
      "cell_type": "code",
      "metadata": {
        "id": "OhXYih2_vX5o",
        "colab_type": "code",
        "colab": {}
      },
      "source": [
        "df.emp_title_manager = True\n",
        "print(df.emp_title_manager)"
      ],
      "execution_count": 0,
      "outputs": []
    },
    {
      "cell_type": "code",
      "metadata": {
        "id": "25V816EFvdAk",
        "colab_type": "code",
        "colab": {}
      },
      "source": [
        "df.emp_title_manager = df['emp_title'].str.contains(\"manager\")"
      ],
      "execution_count": 0,
      "outputs": []
    },
    {
      "cell_type": "code",
      "metadata": {
        "id": "xlt4Jyg5vedA",
        "colab_type": "code",
        "colab": {}
      },
      "source": [
        "df['emp_title_manager'] = df['emp_title'].str.contains(\"manager\")\n",
        "\n",
        "df.head()"
      ],
      "execution_count": 0,
      "outputs": []
    },
    {
      "cell_type": "code",
      "metadata": {
        "id": "IGEc5BBkvguN",
        "colab_type": "code",
        "colab": {}
      },
      "source": [
        "condition = df['emp_title_manager'] == True\n",
        "managers = df[condition]\n",
        "print(managers.shape)\n",
        "managers.head()"
      ],
      "execution_count": 0,
      "outputs": []
    },
    {
      "cell_type": "code",
      "metadata": {
        "id": "gN32GtLRvj-3",
        "colab_type": "code",
        "colab": {}
      },
      "source": [
        "managers = df[df['emp_title'].str.contains('manager')]\n",
        "print(managers.shape)\n",
        "managers.head()"
      ],
      "execution_count": 0,
      "outputs": []
    },
    {
      "cell_type": "code",
      "metadata": {
        "id": "I6YDWA8Bvl-_",
        "colab_type": "code",
        "colab": {}
      },
      "source": [
        "plebians = df[df['emp_title_manager'] == False]\n",
        "print(plebians.shape)\n",
        "plebians.head()\n"
      ],
      "execution_count": 0,
      "outputs": []
    },
    {
      "cell_type": "code",
      "metadata": {
        "id": "oetULfZqvn9Z",
        "colab_type": "code",
        "colab": {}
      },
      "source": [
        "managers['int_rate'].hist(bins = 20);"
      ],
      "execution_count": 0,
      "outputs": []
    },
    {
      "cell_type": "code",
      "metadata": {
        "id": "0aCZMD8dvqKj",
        "colab_type": "code",
        "colab": {}
      },
      "source": [
        "plebians['int_rate'].hist(bins = 20);"
      ],
      "execution_count": 0,
      "outputs": []
    },
    {
      "cell_type": "code",
      "metadata": {
        "id": "G-Wo4QtCvtRo",
        "colab_type": "code",
        "colab": {}
      },
      "source": [
        "managers['int_rate'].mean()"
      ],
      "execution_count": 0,
      "outputs": []
    },
    {
      "cell_type": "code",
      "metadata": {
        "id": "cESSjHi5vthw",
        "colab_type": "code",
        "colab": {}
      },
      "source": [
        "plebians['int_rate'].mean()"
      ],
      "execution_count": 0,
      "outputs": []
    },
    {
      "cell_type": "code",
      "metadata": {
        "id": "jIOlMCLDvxyT",
        "colab_type": "code",
        "colab": {}
      },
      "source": [
        "df['emp_length'].unique()\n",
        "def get_number(x):\n",
        "  if isinstance(x, str):\n",
        "    x = x.replace('+', '')\n",
        "    for s in x.split():\n",
        "      if s.isdigit():\n",
        "        return int(s)\n",
        "  else:\n",
        "    return np.NaN"
      ],
      "execution_count": 0,
      "outputs": []
    },
    {
      "cell_type": "code",
      "metadata": {
        "id": "yXPRLmwg1hc3",
        "colab_type": "code",
        "colab": {}
      },
      "source": [
        ""
      ],
      "execution_count": 0,
      "outputs": []
    },
    {
      "cell_type": "code",
      "metadata": {
        "id": "vl--O4k_vtng",
        "colab_type": "code",
        "colab": {}
      },
      "source": [
        "list(map(get_number, df['emp_length'].unique()))"
      ],
      "execution_count": 0,
      "outputs": []
    },
    {
      "cell_type": "code",
      "metadata": {
        "id": "H63SAhfYvtq2",
        "colab_type": "code",
        "colab": {}
      },
      "source": [
        "df['emp_length_num'] = df['emp_length'].apply(get_number)"
      ],
      "execution_count": 0,
      "outputs": []
    },
    {
      "cell_type": "code",
      "metadata": {
        "id": "rpw6CJHxvtlR",
        "colab_type": "code",
        "colab": {}
      },
      "source": [
        "df.head()"
      ],
      "execution_count": 0,
      "outputs": []
    },
    {
      "cell_type": "code",
      "metadata": {
        "id": "V-mqVvcav9Yh",
        "colab_type": "code",
        "colab": {}
      },
      "source": [
        "mask = df['emp_length_num'] >= 3\n",
        "df_experienced = df[mask]\n",
        "df_inexperienced = df[~mask]"
      ],
      "execution_count": 0,
      "outputs": []
    },
    {
      "cell_type": "code",
      "metadata": {
        "id": "cVh88yuZwA7T",
        "colab_type": "code",
        "colab": {}
      },
      "source": [
        "df_experienced.shape"
      ],
      "execution_count": 0,
      "outputs": []
    },
    {
      "cell_type": "code",
      "metadata": {
        "id": "XZOsuo5nwCtQ",
        "colab_type": "code",
        "colab": {}
      },
      "source": [
        "df_inexperienced.shape"
      ],
      "execution_count": 0,
      "outputs": []
    },
    {
      "cell_type": "code",
      "metadata": {
        "id": "hKPRu65xwEOa",
        "colab_type": "code",
        "colab": {}
      },
      "source": [
        "df_experienced['emp_length_num'].mean()"
      ],
      "execution_count": 0,
      "outputs": []
    },
    {
      "cell_type": "code",
      "metadata": {
        "id": "X33H4m1UwFvb",
        "colab_type": "code",
        "colab": {}
      },
      "source": [
        "df_inexperienced['emp_length_num'].mean()"
      ],
      "execution_count": 0,
      "outputs": []
    },
    {
      "cell_type": "code",
      "metadata": {
        "id": "UlRpMIcawHN2",
        "colab_type": "code",
        "colab": {}
      },
      "source": [
        "df_experienced['int_rate'].mean()"
      ],
      "execution_count": 0,
      "outputs": []
    },
    {
      "cell_type": "code",
      "metadata": {
        "id": "srZkXUuxwI2Z",
        "colab_type": "code",
        "colab": {}
      },
      "source": [
        "df_inexperienced['int_rate'].mean()"
      ],
      "execution_count": 0,
      "outputs": []
    },
    {
      "cell_type": "code",
      "metadata": {
        "id": "87VBK3ZqwKiP",
        "colab_type": "code",
        "colab": {}
      },
      "source": [
        "df['annual_inc'].mean()"
      ],
      "execution_count": 0,
      "outputs": []
    },
    {
      "cell_type": "code",
      "metadata": {
        "id": "LXQ6bFecwL91",
        "colab_type": "code",
        "colab": {}
      },
      "source": [
        "df['annual_inc'].median()"
      ],
      "execution_count": 0,
      "outputs": []
    },
    {
      "cell_type": "code",
      "metadata": {
        "id": "B3MG0X1VwNrm",
        "colab_type": "code",
        "colab": {}
      },
      "source": [
        "mask = df['annual_inc'] > df['annual_inc'].median()\n",
        "df_top50 = df[mask]\n",
        "df_bottom50 = df[~mask]"
      ],
      "execution_count": 0,
      "outputs": []
    },
    {
      "cell_type": "code",
      "metadata": {
        "id": "8FVD3cK7wRTK",
        "colab_type": "code",
        "colab": {}
      },
      "source": [
        "df_top50.shape"
      ],
      "execution_count": 0,
      "outputs": []
    },
    {
      "cell_type": "code",
      "metadata": {
        "id": "ws0GpBK5wTK-",
        "colab_type": "code",
        "colab": {}
      },
      "source": [
        "df_bottom50.shape"
      ],
      "execution_count": 0,
      "outputs": []
    },
    {
      "cell_type": "code",
      "metadata": {
        "id": "C4iu3-rnwU-m",
        "colab_type": "code",
        "colab": {}
      },
      "source": [
        "print(df_top50['int_rate'].mean(), df_bottom50['int_rate'].mean())"
      ],
      "execution_count": 0,
      "outputs": []
    },
    {
      "cell_type": "code",
      "metadata": {
        "id": "TeFEZIqhwWrG",
        "colab_type": "code",
        "colab": {}
      },
      "source": [
        "mask = df['verification_status'] == 'Source Verified'\n",
        "print(df[mask]['int_rate'].mean(), df[~mask]['int_rate'].mean())"
      ],
      "execution_count": 0,
      "outputs": []
    },
    {
      "cell_type": "code",
      "metadata": {
        "id": "jQJy2diOwZ5s",
        "colab_type": "code",
        "colab": {}
      },
      "source": [
        "print(f\"{df[mask]['int_rate'].mean():.2f}, {df[~mask]['int_rate'].mean():.2f}\")"
      ],
      "execution_count": 0,
      "outputs": []
    },
    {
      "cell_type": "code",
      "metadata": {
        "id": "FVXXsu_9wbc8",
        "colab_type": "code",
        "colab": {}
      },
      "source": [
        "df['issue_d']"
      ],
      "execution_count": 0,
      "outputs": []
    },
    {
      "cell_type": "code",
      "metadata": {
        "id": "SFzX4Vf_wfIb",
        "colab_type": "code",
        "colab": {}
      },
      "source": [
        "df['issue_d'].describe()"
      ],
      "execution_count": 0,
      "outputs": []
    },
    {
      "cell_type": "code",
      "metadata": {
        "id": "VaCKfM6XwgsN",
        "colab_type": "code",
        "colab": {}
      },
      "source": [
        "df['issue_d'].value_counts()"
      ],
      "execution_count": 0,
      "outputs": []
    },
    {
      "cell_type": "code",
      "metadata": {
        "id": "CZyJeHwkwiCl",
        "colab_type": "code",
        "colab": {}
      },
      "source": [
        "df.dtypes"
      ],
      "execution_count": 0,
      "outputs": []
    },
    {
      "cell_type": "code",
      "metadata": {
        "id": "Q56BB3Euwj6X",
        "colab_type": "code",
        "colab": {}
      },
      "source": [
        "df['issue_d'] = pd.to_datetime(df['issue_d'], infer_datetime_format = True)"
      ],
      "execution_count": 0,
      "outputs": []
    },
    {
      "cell_type": "code",
      "metadata": {
        "id": "fDTopcdZwmLR",
        "colab_type": "code",
        "colab": {}
      },
      "source": [
        "df['issue_d'].head().values"
      ],
      "execution_count": 0,
      "outputs": []
    },
    {
      "cell_type": "code",
      "metadata": {
        "id": "_LUGL9AIxoE1",
        "colab_type": "code",
        "colab": {}
      },
      "source": [
        "df.dtypes"
      ],
      "execution_count": 0,
      "outputs": []
    },
    {
      "cell_type": "code",
      "metadata": {
        "id": "-BmQ3yLGxqQY",
        "colab_type": "code",
        "colab": {}
      },
      "source": [
        "df['issue_d'].dt.year"
      ],
      "execution_count": 0,
      "outputs": []
    },
    {
      "cell_type": "code",
      "metadata": {
        "id": "3KetLwGLxtTc",
        "colab_type": "code",
        "colab": {}
      },
      "source": [
        "df['issue_d'].dt.month"
      ],
      "execution_count": 0,
      "outputs": []
    },
    {
      "cell_type": "code",
      "metadata": {
        "id": "X_n43fImxwwf",
        "colab_type": "code",
        "colab": {}
      },
      "source": [
        "df['issue_year'] = df['issue_d'].dt.year"
      ],
      "execution_count": 0,
      "outputs": []
    },
    {
      "cell_type": "code",
      "metadata": {
        "id": "VNmr6GRNxyEn",
        "colab_type": "code",
        "colab": {}
      },
      "source": [
        "df['issue_month'] = df['issue_d'].dt.month"
      ],
      "execution_count": 0,
      "outputs": []
    },
    {
      "cell_type": "code",
      "metadata": {
        "id": "MOAoTJbCxz5h",
        "colab_type": "code",
        "colab": {}
      },
      "source": [
        "df.head()"
      ],
      "execution_count": 0,
      "outputs": []
    },
    {
      "cell_type": "code",
      "metadata": {
        "id": "HHV3s46Qx12W",
        "colab_type": "code",
        "colab": {}
      },
      "source": [
        "[col for col in df if col.endswith('_d')]"
      ],
      "execution_count": 0,
      "outputs": []
    },
    {
      "cell_type": "code",
      "metadata": {
        "id": "Fu4bl2nGx3sa",
        "colab_type": "code",
        "colab": {}
      },
      "source": [
        "df['earliest_cr_line'].head()"
      ],
      "execution_count": 0,
      "outputs": []
    },
    {
      "cell_type": "code",
      "metadata": {
        "id": "Kw2123xZx5iP",
        "colab_type": "code",
        "colab": {}
      },
      "source": [
        "df['earliest_cr_line'] = pd.to_datetime(df['earliest_cr_line'], infer_datetime_format = True)"
      ],
      "execution_count": 0,
      "outputs": []
    },
    {
      "cell_type": "code",
      "metadata": {
        "id": "TREjS3OFx9WT",
        "colab_type": "code",
        "colab": {}
      },
      "source": [
        "df['issue_d'] - df['earliest_cr_line']"
      ],
      "execution_count": 0,
      "outputs": []
    },
    {
      "cell_type": "code",
      "metadata": {
        "id": "sIsgZx80yBQu",
        "colab_type": "code",
        "colab": {}
      },
      "source": [
        "df['days_from_earliest_credit_to_issue'] = (df['issue_d'] - df['earliest_cr_line']).dt.days"
      ],
      "execution_count": 0,
      "outputs": []
    },
    {
      "cell_type": "code",
      "metadata": {
        "id": "XV-ejS9kyDEt",
        "colab_type": "code",
        "colab": {}
      },
      "source": [
        "df['days_from_earliest_credit_to_issue'].describe()"
      ],
      "execution_count": 0,
      "outputs": []
    },
    {
      "cell_type": "code",
      "metadata": {
        "id": "V7OqT59d1j2c",
        "colab_type": "code",
        "colab": {}
      },
      "source": [
        "df['term'].sample(30)"
      ],
      "execution_count": 0,
      "outputs": []
    },
    {
      "cell_type": "code",
      "metadata": {
        "id": "xWlNOyGH2lXV",
        "colab_type": "code",
        "colab": {}
      },
      "source": [
        "df['term'] = df['term'].str.replace(r' months', '')"
      ],
      "execution_count": 0,
      "outputs": []
    },
    {
      "cell_type": "code",
      "metadata": {
        "id": "D2suMsC93V1e",
        "colab_type": "code",
        "colab": {}
      },
      "source": [
        "df['term'] = df['term'].astype(int)"
      ],
      "execution_count": 0,
      "outputs": []
    },
    {
      "cell_type": "code",
      "metadata": {
        "id": "D2P_9YCg3bOY",
        "colab_type": "code",
        "colab": {}
      },
      "source": [
        "df['term'].head()"
      ],
      "execution_count": 0,
      "outputs": []
    },
    {
      "cell_type": "code",
      "metadata": {
        "id": "A5v1QsjN36hd",
        "colab_type": "code",
        "colab": {}
      },
      "source": [
        "def loanstatus(loan_status):\n",
        "  if loan_status == 'Current':\n",
        "      return '1'\n",
        "  elif loan_status == 'Fully Paid':\n",
        "      return '1'\n",
        "  else:\n",
        "      return '0'"
      ],
      "execution_count": 0,
      "outputs": []
    },
    {
      "cell_type": "code",
      "metadata": {
        "id": "AW29axcA5hK1",
        "colab_type": "code",
        "colab": {}
      },
      "source": [
        "df.apply(lambda row: loanstatus(row), axis = 1)"
      ],
      "execution_count": 0,
      "outputs": []
    },
    {
      "cell_type": "code",
      "metadata": {
        "id": "DoDlzmtH5MRg",
        "colab_type": "code",
        "colab": {}
      },
      "source": [
        "df['loan_status'] = df.apply(lambda row: loanstatus(loan_status), axis = 1)"
      ],
      "execution_count": 0,
      "outputs": []
    },
    {
      "cell_type": "code",
      "metadata": {
        "id": "HWqI4kWOEOPJ",
        "colab_type": "code",
        "colab": {}
      },
      "source": [
        "df['loan_status'].sample(20)"
      ],
      "execution_count": 0,
      "outputs": []
    },
    {
      "cell_type": "code",
      "metadata": {
        "id": "3jcUP3Eh_ROu",
        "colab_type": "code",
        "colab": {}
      },
      "source": [
        "df['last_pymnt_d_month'] = df.last_pymnt_d.str[:3]"
      ],
      "execution_count": 0,
      "outputs": []
    },
    {
      "cell_type": "code",
      "metadata": {
        "id": "Yy8BnW6i_dF0",
        "colab_type": "code",
        "colab": {}
      },
      "source": [
        "df['last_pymnt_d_month'].head() # Th"
      ],
      "execution_count": 0,
      "outputs": []
    },
    {
      "cell_type": "code",
      "metadata": {
        "id": "-MycWeE9AaeP",
        "colab_type": "code",
        "colab": {}
      },
      "source": [
        "df['last_pymnt_d_year'] = df.last_pymnt_d.str[4:] # This will take the last 4 - the year."
      ],
      "execution_count": 0,
      "outputs": []
    },
    {
      "cell_type": "code",
      "metadata": {
        "id": "DLBHJQGbAhrg",
        "colab_type": "code",
        "colab": {}
      },
      "source": [
        "df['last_pymnt_d_year'].head()"
      ],
      "execution_count": 0,
      "outputs": []
    },
    {
      "cell_type": "markdown",
      "metadata": {
        "colab_type": "text",
        "id": "L8k0LiHmo5EU"
      },
      "source": [
        "# Stretch Goals\n",
        "\n",
        "You can do more with the LendingClub or Instacart datasets.\n",
        "\n",
        "LendingClub options:\n",
        "- There's one other column in the dataframe with percent signs. Remove them and convert to floats. You'll need to handle missing values.\n",
        "- Modify the `emp_title` column to replace titles with 'Other' if the title is not in the top 20. \n",
        "- Take initiatve and work on your own ideas!\n",
        "\n",
        "Instacart options:\n",
        "- Read [Instacart Market Basket Analysis, Winner's Interview: 2nd place, Kazuki Onodera](http://blog.kaggle.com/2017/09/21/instacart-market-basket-analysis-winners-interview-2nd-place-kazuki-onodera/), especially the **Feature Engineering** section. (Can you choose one feature from his bulleted lists, and try to engineer it with pandas code?)\n",
        "- Read and replicate parts of [Simple Exploration Notebook - Instacart](https://www.kaggle.com/sudalairajkumar/simple-exploration-notebook-instacart). (It's the Python Notebook with the most upvotes for this Kaggle competition.)\n",
        "- Take initiative and work on your own ideas!"
      ]
    },
    {
      "cell_type": "code",
      "metadata": {
        "id": "6ukuieBBxm4V",
        "colab_type": "code",
        "colab": {}
      },
      "source": [
        ""
      ],
      "execution_count": 0,
      "outputs": []
    },
    {
      "cell_type": "markdown",
      "metadata": {
        "colab_type": "text",
        "id": "0_7PXF7lpEXg"
      },
      "source": [
        "You can uncomment and run the cells below to re-download and extract the Instacart data"
      ]
    },
    {
      "cell_type": "code",
      "metadata": {
        "id": "urIePNa0yNG6",
        "colab_type": "code",
        "colab": {}
      },
      "source": [
        "# !wget https://s3.amazonaws.com/instacart-datasets/instacart_online_grocery_shopping_2017_05_01.tar.gz"
      ],
      "execution_count": 0,
      "outputs": []
    },
    {
      "cell_type": "code",
      "metadata": {
        "id": "X9zEyu-uyNG8",
        "colab_type": "code",
        "colab": {}
      },
      "source": [
        "# !tar --gunzip --extract --verbose --file=instacart_online_grocery_shopping_2017_05_01.tar.gz"
      ],
      "execution_count": 0,
      "outputs": []
    },
    {
      "cell_type": "code",
      "metadata": {
        "id": "Y3IqrhlpyNG-",
        "colab_type": "code",
        "colab": {}
      },
      "source": [
        "# %cd instacart_2017_05_01"
      ],
      "execution_count": 0,
      "outputs": []
    }
  ]
}